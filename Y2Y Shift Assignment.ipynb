{
 "cells": [
  {
   "cell_type": "markdown",
   "metadata": {},
   "source": [
    "# Introduction\n",
    "This notebook was created by Garrett R. Dowdy (gdowdy3@gmail.com) to solve Y2Y's shift assignment problem.\n",
    "\n",
    "The notebook consists of a series of gray boxes (\"cells\") containing code.\n",
    "The cells are divided up into sections by bold headers  -- \"Introduction\", \"Setup\", and so on.\n",
    "Many of these headers are accompanied by explanatory text.\n",
    "\n",
    "To run this code:\n",
    "\n",
    "1. Verify that the \"Individual Preferences.csv\" and \"Prefilled Shifts.csv\" files have been uploaded to the same JuliaBox folder as the .pynb file that you clicked to open this notebook. Note: the spelling must be *exact*.\n",
    "2. On the menu bar above, select **Cell** --> **All Output** --> **Clear**\n",
    "3. Moving down the document, run each cell in sequence,  reading the explanatory text and checking for errors as you go.\n",
    "4. Check the summary statistics printed by the final cell.\n",
    "5. Check the output csv files added to the current JuliaBox folder (see previous tab in your browser).\n",
    "6. If you are happy with the results, great!  If not, tweak the objective weights in the \"Define the Objective Function\" section and start over, returning to Step 2.\n",
    "7. You can exit this notebook gracefully by selecting **File** --> **Close and Halt**.\n",
    "\n",
    "A cell is run by clicking in the gray box and then pressing [ctrl] + [enter] on your keyboard. \n",
    "You will know that a cell is executed when the \"In[ ]\" to its left is replaced with \"In[#]\", where \"#\" is a number. \n",
    "\"In[\\*]\" indicates that the cell is currently executing.  You can use the up and down arrow keys to move between cells."
   ]
  },
  {
   "cell_type": "markdown",
   "metadata": {},
   "source": [
    "# Setup"
   ]
  },
  {
   "cell_type": "markdown",
   "metadata": {},
   "source": [
    "## Define Custom Functions\n",
    "The code makes use of some custom-made functions.  So that they don't disrupt the flow of logic in the body of the code below, it is best to define them here."
   ]
  },
  {
   "cell_type": "code",
   "execution_count": 1,
   "metadata": {},
   "outputs": [
    {
     "data": {
      "text/plain": [
       "mapShiftStringToShiftInd (generic function with 1 method)"
      ]
     },
     "execution_count": 1,
     "metadata": {},
     "output_type": "execute_result"
    }
   ],
   "source": [
    "function mapShiftStringToShiftInd(shiftString::String)\n",
    "#Inputs:\n",
    "#   shiftString = a string describing a shift. E.g., \"Monday Dinner\" or\n",
    "#   \"Saturday Evening\".\n",
    "#\n",
    "#Outputs:\n",
    "#   shiftInd = the corresponding shift index, based on the following table:\n",
    "#           Shift String        Shift Index\n",
    "#           Monday Breakfast    1\n",
    "#           Monday Dinner       2\n",
    "#           Monday Evening      3\n",
    "#           Monday Overnight    4\n",
    "#           Tuesday Breakfast   5\n",
    "#           .\n",
    "#           .\n",
    "#           .\n",
    "#           Sunday Evening      27\n",
    "#           Sunday Overnight    28\n",
    "\n",
    "    #translate the string into a shift index\n",
    "    spacePos = searchindex(shiftString,\" \");\n",
    "    day = shiftString[1:(spacePos-1)];\n",
    "    period = shiftString[(spacePos+1):end];\n",
    "\n",
    "    #initialize the day dictionary\n",
    "    dayDict = Dict{String,Int}()\n",
    "\n",
    "    #add the entries to the day dictionary\n",
    "    dayDict[\"Monday\"] = 0\n",
    "    dayDict[\"Tuesday\"] = 1\n",
    "    dayDict[\"Wednesday\"] = 2\n",
    "    dayDict[\"Thursday\"] = 3\n",
    "    dayDict[\"Friday\"] = 4\n",
    "    dayDict[\"Saturday\"] = 5\n",
    "    dayDict[\"Sunday\"] = 6\n",
    "\n",
    "    #retrieve the index corresponding to the day\n",
    "    s_d = dayDict[day]\n",
    "\n",
    "    #initialize the period dictionary\n",
    "    periodDict = Dict{String,Int}()\n",
    "\n",
    "    #add the entries to the period dictionary\n",
    "    periodDict[\"Breakfast\"] = 1\n",
    "    periodDict[\"Dinner\"] = 2\n",
    "    periodDict[\"Evening\"] = 3\n",
    "    periodDict[\"Overnight\"] = 4\n",
    "\n",
    "    #retrieve the index corresponding to the period\n",
    "    s_p = periodDict[period]\n",
    "\n",
    "    #calculate the shift index\n",
    "    shiftInd = 4*s_d + s_p;\n",
    "\n",
    "    return shiftInd\n",
    "end"
   ]
  },
  {
   "cell_type": "code",
   "execution_count": 2,
   "metadata": {},
   "outputs": [
    {
     "data": {
      "text/plain": [
       "mapShiftStringToVolunteersRequired (generic function with 1 method)"
      ]
     },
     "execution_count": 2,
     "metadata": {},
     "output_type": "execute_result"
    }
   ],
   "source": [
    "function mapShiftStringToVolunteersRequired(shiftString::String)\n",
    "#Inputs:\n",
    "#   shiftString = a string describing a shift. E.g., 'Monday Dinner' or\n",
    "#   'Saturday Evening'.\n",
    "#\n",
    "#Outputs:\n",
    "#   n = the number of volunteers required for the specified shift,\n",
    "#   according to the following table:\n",
    "#           Shift Period        Volunteers Required\n",
    "#           Breakfast           6\n",
    "#           Dinner              5\n",
    "#           Evening             4\n",
    "#           Overnight           4\n",
    "\n",
    "\n",
    "    #translate the string into a shift index\n",
    "    spacePos = searchindex(shiftString,\" \");\n",
    "    period = shiftString[(spacePos + 1):end];\n",
    "\n",
    "    if period == \"Breakfast\"\n",
    "        n = 4\n",
    "    elseif period == \"Dinner\"\n",
    "        n = 4\n",
    "    elseif period == \"Evening\"\n",
    "        n = 4\n",
    "    elseif period == \"Overnight\"\n",
    "        n = 4\n",
    "    else\n",
    "        error(\"The given shift string $shiftString does not match the expected format.\")    \n",
    "    end\n",
    "\n",
    "    return n\n",
    "\n",
    "end"
   ]
  },
  {
   "cell_type": "code",
   "execution_count": 3,
   "metadata": {},
   "outputs": [
    {
     "data": {
      "text/plain": [
       "mapShiftIndToShiftString (generic function with 1 method)"
      ]
     },
     "execution_count": 3,
     "metadata": {},
     "output_type": "execute_result"
    }
   ],
   "source": [
    "function mapShiftIndToShiftString(s)\n",
    "#Inputs:\n",
    "#   s = an index, which has a corresponding shift.  The relationship\n",
    "#       is established by the following table:\n",
    "#           Shift String        Shift Index\n",
    "#           Monday Breakfast    1\n",
    "#           Monday Dinner       2\n",
    "#           Monday Evening      3\n",
    "#           Monday Overnight    4\n",
    "#           Tuesday Breakfast   5\n",
    "#           .\n",
    "#           .\n",
    "#           .\n",
    "#           Sunday Evening      27\n",
    "#           Sunday Overnight    28\n",
    "#\n",
    "#Outputs:\n",
    "#   shiftString = the shift string taken from the above table.\n",
    "\n",
    "\n",
    "    #figure out which day this corresponds to\n",
    "    dayInd = ceil(s/4);\n",
    "    if dayInd == 1\n",
    "        dayStr = \"Monday\"\n",
    "    elseif dayInd == 2\n",
    "        dayStr = \"Tuesday\"\n",
    "    elseif dayInd == 3\n",
    "        dayStr = \"Wednesday\"\n",
    "    elseif dayInd == 4\n",
    "        dayStr = \"Thursday\"\n",
    "    elseif dayInd == 5\n",
    "        dayStr = \"Friday\"\n",
    "    elseif dayInd == 6\n",
    "        dayStr = \"Saturday\"\n",
    "    elseif dayInd == 7\n",
    "        dayStr = \"Sunday\"\n",
    "    else\n",
    "        error(\"The given shift index $s is outside of the expected range.\")\n",
    "    end\n",
    "\n",
    "    # figure out which period this corresponds to\n",
    "    perInd = s%4\n",
    "    if perInd == 0\n",
    "        perStr = \"Overnight\"\n",
    "    elseif perInd == 1\n",
    "        perStr = \"Breakfast\"\n",
    "    elseif perInd == 2\n",
    "        perStr = \"Dinner\"\n",
    "    elseif perInd == 3\n",
    "        perStr = \"Evening\"\n",
    "    else\n",
    "        error(\"The given shift index $s is outside of the expected range.\")\n",
    "    end\n",
    "\n",
    "    # construct the shift string\n",
    "    shiftString = \"$dayStr $perStr\";\n",
    "\n",
    "    return shiftString\n",
    "end"
   ]
  },
  {
   "cell_type": "markdown",
   "metadata": {},
   "source": [
    "# Read in the Problem Data\n",
    "There are two sources of data which define the problem:\n",
    "\n",
    "1. A csv file showing the shift assignment preferences for each individual: \"Individual Preferences.csv\".\n",
    "2. A csv file showing which shifts have been prefilled: \"Prefilled Shifts.csv\".\n",
    "\n",
    "In this section of the code, these two data files are imported and interpreted.\n",
    "\n",
    "Executing the following two cells displays the top and bottom portions of the preferences input table.  Check the output to make sure there isn't any funny business going on."
   ]
  },
  {
   "cell_type": "code",
   "execution_count": 4,
   "metadata": {
    "scrolled": true
   },
   "outputs": [
    {
     "data": {
      "text/html": [
       "<table class=\"data-frame\"><thead><tr><th></th><th>Preferred_Applicants</th><th>First_Name</th><th>Last_Name</th><th>x1st_Preference</th><th>x2nd_Preference</th><th>x3rd_Preference</th><th>x4th_Preference</th><th>x5th_Preference</th></tr></thead><tbody><tr><th>1</th><td>missing</td><td>Jessica</td><td>Kim</td><td>Friday Dinner</td><td>Saturday Dinner</td><td>Thursday Dinner</td><td>Thursday Evening</td><td>Friday Evening</td></tr><tr><th>2</th><td>missing</td><td>Bilal</td><td>Nadeem</td><td>Sunday Breakfast</td><td>Tuesday Breakfast</td><td>Thursday Breakfast</td><td>Saturday Dinner</td><td>Tuesday Evening</td></tr><tr><th>3</th><td>missing</td><td>Camilla</td><td>Suarez</td><td>Thursday Dinner</td><td>Friday Dinner</td><td>Saturday Breakfast</td><td>missing</td><td>missing</td></tr><tr><th>4</th><td>true</td><td>Jason</td><td>Dong</td><td>Saturday Evening</td><td>Wednesday Breakfast</td><td>Thursday Breakfast</td><td>missing</td><td>missing</td></tr><tr><th>5</th><td>true</td><td>Daniel</td><td>Letchford</td><td>Saturday Dinner</td><td>Wednesday Breakfast</td><td>Thursday Breakfast</td><td>missing</td><td>missing</td></tr><tr><th>6</th><td>missing</td><td>Sarah</td><td>Schewe</td><td>Thursday Dinner</td><td>Wednesday Dinner</td><td>Friday Dinner</td><td>Tuesday Dinner</td><td>Monday Dinner</td></tr><tr><th>7</th><td>missing</td><td>Mary</td><td>Finlayson</td><td>Monday Breakfast</td><td>Tuesday Breakfast</td><td>Sunday Evening</td><td>Sunday Overnight</td><td>Monday Overnight</td></tr><tr><th>8</th><td>true</td><td>Michael</td><td>Liu</td><td>Friday Dinner</td><td>missing</td><td>missing</td><td>missing</td><td>missing</td></tr><tr><th>9</th><td>missing</td><td>Emily</td><td>Jung</td><td>Monday Breakfast</td><td>Saturday Breakfast</td><td>Wednesday Breakfast</td><td>Thursday Breakfast</td><td>Tuesday Breakfast</td></tr><tr><th>10</th><td>missing</td><td>Ruby</td><td>Almanza</td><td>Wednesday Breakfast</td><td>Tuesday Breakfast</td><td>missing</td><td>missing</td><td>missing</td></tr><tr><th>11</th><td>true</td><td>Vivian</td><td>yu</td><td>Saturday Dinner</td><td>Saturday Evening</td><td>Friday Evening</td><td>Sunday Evening</td><td>missing</td></tr><tr><th>12</th><td>missing</td><td>Katie</td><td>Blanton</td><td>Monday Evening</td><td>Tuesday Evening</td><td>Sunday Evening</td><td>Wednesday Evening</td><td>Tuesday Dinner</td></tr><tr><th>13</th><td>true</td><td>Gabrielle</td><td>Tartakovsky</td><td>Wednesday Breakfast</td><td>Monday Breakfast</td><td>missing</td><td>missing</td><td>missing</td></tr><tr><th>14</th><td>true</td><td>Christine</td><td>Gosioco</td><td>Wednesday Breakfast</td><td>Monday Breakfast</td><td>missing</td><td>missing</td><td>missing</td></tr><tr><th>15</th><td>true</td><td>Ha Ryong (Michael)</td><td>Jung</td><td>Friday Evening</td><td>missing</td><td>missing</td><td>missing</td><td>missing</td></tr><tr><th>16</th><td>missing</td><td>Claire</td><td>Rushin</td><td>Thursday Dinner</td><td>Thursday Evening</td><td>Saturday Breakfast</td><td>missing</td><td>missing</td></tr><tr><th>17</th><td>true</td><td>Stephanie</td><td>Ying</td><td>Tuesday Dinner</td><td>Monday Dinner</td><td>Wednesday Dinner</td><td>Monday Breakfast</td><td>Tuesday Evening</td></tr><tr><th>18</th><td>true</td><td>Marcus</td><td>Powers</td><td>Thursday Breakfast</td><td>Wednesday Breakfast</td><td>Monday Breakfast</td><td>Friday Breakfast</td><td>Tuesday Breakfast</td></tr><tr><th>19</th><td>true</td><td>Jarele</td><td>Soyinka</td><td>Monday Overnight</td><td>Tuesday Overnight</td><td>Wednesday Overnight</td><td>Thursday Overnight</td><td>Thursday Breakfast</td></tr><tr><th>20</th><td>missing</td><td>sara</td><td>graham</td><td>Monday Dinner</td><td>Tuesday Dinner</td><td>Wednesday Dinner</td><td>Thursday Dinner</td><td>Friday Dinner</td></tr><tr><th>21</th><td>missing</td><td>David</td><td>Hu</td><td>Monday Dinner</td><td>Tuesday Dinner</td><td>Wednesday Dinner</td><td>Saturday Dinner</td><td>Friday Dinner</td></tr><tr><th>22</th><td>true</td><td>Lucy</td><td>Costa</td><td>Friday Evening</td><td>Saturday Evening</td><td>Sunday Evening</td><td>Monday Evening</td><td>Wednesday Evening</td></tr><tr><th>23</th><td>missing</td><td>Sadie</td><td>McQuilkin</td><td>Monday Dinner</td><td>Thursday Dinner</td><td>Tuesday Dinner</td><td>Wednesday Dinner</td><td>Friday Dinner</td></tr><tr><th>24</th><td>missing</td><td>Caroline</td><td>Diggins</td><td>Thursday Breakfast</td><td>missing</td><td>missing</td><td>missing</td><td>missing</td></tr><tr><th>25</th><td>missing</td><td>Emmah</td><td>Wabuke</td><td>Saturday Evening</td><td>Friday Evening</td><td>Sunday Breakfast</td><td>Friday Dinner</td><td>Saturday Overnight</td></tr><tr><th>26</th><td>missing</td><td>Bethlehem</td><td>Lulseged</td><td>Friday Breakfast</td><td>Monday Breakfast</td><td>Tuesday Breakfast</td><td>Thursday Breakfast</td><td>Wednesday Breakfast</td></tr><tr><th>27</th><td>missing</td><td>Fadi</td><td>Hamati</td><td>Thursday Evening</td><td>Thursday Dinner</td><td>Thursday Overnight</td><td>missing</td><td>missing</td></tr><tr><th>28</th><td>missing</td><td>Kayla</td><td>Measell</td><td>Monday Dinner</td><td>Tuesday Dinner</td><td>Wednesday Dinner</td><td>missing</td><td>missing</td></tr><tr><th>29</th><td>missing</td><td>Julia</td><td>Gallogly</td><td>Tuesday Dinner</td><td>Thursday Dinner</td><td>Monday Dinner</td><td>Friday Dinner</td><td>Sunday Breakfast</td></tr><tr><th>30</th><td>missing</td><td>livio</td><td>valenti</td><td>Monday Breakfast</td><td>Monday Dinner</td><td>Tuesday Dinner</td><td>Wednesday Dinner</td><td>Thursday Evening</td></tr><tr><th>&vellip;</th><td>&vellip;</td><td>&vellip;</td><td>&vellip;</td><td>&vellip;</td><td>&vellip;</td><td>&vellip;</td><td>&vellip;</td><td>&vellip;</td></tr></tbody></table>"
      ],
      "text/plain": [
       "182×8 DataFrames.DataFrame. Omitted printing of 4 columns\n",
       "│ Row │ Preferred_Applicants │ First_Name │ Last_Name │ x1st_Preference     │\n",
       "├─────┼──────────────────────┼────────────┼───────────┼─────────────────────┤\n",
       "│ 1   │ \u001b[90mmissing\u001b[39m              │ Jessica    │ Kim       │ Friday Dinner       │\n",
       "│ 2   │ \u001b[90mmissing\u001b[39m              │ Bilal      │ Nadeem    │ Sunday Breakfast    │\n",
       "│ 3   │ \u001b[90mmissing\u001b[39m              │ Camilla    │ Suarez    │ Thursday Dinner     │\n",
       "│ 4   │ true                 │ Jason      │ Dong      │ Saturday Evening    │\n",
       "│ 5   │ true                 │ Daniel     │ Letchford │ Saturday Dinner     │\n",
       "│ 6   │ \u001b[90mmissing\u001b[39m              │ Sarah      │ Schewe    │ Thursday Dinner     │\n",
       "│ 7   │ \u001b[90mmissing\u001b[39m              │ Mary       │ Finlayson │ Monday Breakfast    │\n",
       "│ 8   │ true                 │ Michael    │ Liu       │ Friday Dinner       │\n",
       "│ 9   │ \u001b[90mmissing\u001b[39m              │ Emily      │ Jung      │ Monday Breakfast    │\n",
       "│ 10  │ \u001b[90mmissing\u001b[39m              │ Ruby       │ Almanza   │ Wednesday Breakfast │\n",
       "│ 11  │ true                 │ Vivian     │ yu        │ Saturday Dinner     │\n",
       "⋮\n",
       "│ 171 │ true                 │ Tauheed    │ Islam     │ Friday Overnight    │\n",
       "│ 172 │ \u001b[90mmissing\u001b[39m              │ Erin       │ Kim       │ Thursday Overnight  │\n",
       "│ 173 │ true                 │ Kevon      │ Edmondson │ Thursday Dinner     │\n",
       "│ 174 │ true                 │ Sarah      │ Angell    │ Monday Dinner       │\n",
       "│ 175 │ true                 │ Alan       │ Wong      │ Saturday Breakfast  │\n",
       "│ 176 │ true                 │ Lizzy      │ Thomas    │ Monday Dinner       │\n",
       "│ 177 │ true                 │ Terresa    │ Eun       │ Wednesday Evening   │\n",
       "│ 178 │ true                 │ Sue        │ Wang      │ Monday Dinner       │\n",
       "│ 179 │ true                 │ Kainoa     │ McCauley  │ Thursday Evening    │\n",
       "│ 180 │ true                 │ Ericardo   │ Edwards   │ Monday Evening      │\n",
       "│ 181 │ true                 │ Camille    │ DeSisto   │ Thursday Evening    │\n",
       "│ 182 │ \u001b[90mmissing\u001b[39m              │ Alexis     │ Ross      │ Wednesday Evening   │"
      ]
     },
     "execution_count": 4,
     "metadata": {},
     "output_type": "execute_result"
    }
   ],
   "source": [
    "# Read in the individual preferences\n",
    "using DataFrames, DataArrays\n",
    "raw = readtable(\"Individual Preferences.csv\")"
   ]
  },
  {
   "cell_type": "code",
   "execution_count": 5,
   "metadata": {
    "scrolled": true
   },
   "outputs": [
    {
     "data": {
      "text/html": [
       "<table class=\"data-frame\"><thead><tr><th></th><th>Preferred_Applicants</th><th>First_Name</th><th>Last_Name</th><th>x1st_Preference</th><th>x2nd_Preference</th><th>x3rd_Preference</th><th>x4th_Preference</th><th>x5th_Preference</th></tr></thead><tbody><tr><th>1</th><td>true</td><td>Terresa</td><td>Eun</td><td>Wednesday Evening</td><td>Monday Evening</td><td>missing</td><td>missing</td><td>missing</td></tr><tr><th>2</th><td>true</td><td>Sue</td><td>Wang</td><td>Monday Dinner</td><td>Monday Evening</td><td>Wednesday Evening</td><td>missing</td><td>missing</td></tr><tr><th>3</th><td>true</td><td>Kainoa</td><td>McCauley</td><td>Thursday Evening</td><td>missing</td><td>missing</td><td>missing</td><td>missing</td></tr><tr><th>4</th><td>true</td><td>Ericardo</td><td>Edwards</td><td>Monday Evening</td><td>Tuesday Evening</td><td>Monday Dinner</td><td>missing</td><td>missing</td></tr><tr><th>5</th><td>true</td><td>Camille</td><td>DeSisto</td><td>Thursday Evening</td><td>missing</td><td>missing</td><td>Tuesday Dinner</td><td>Tuesday Evening</td></tr><tr><th>6</th><td>missing</td><td>Alexis</td><td>Ross</td><td>Wednesday Evening</td><td>Thursday Breakfast</td><td>Thursday Evening</td><td>Tuesday Evening</td><td>Thursday Dinner</td></tr></tbody></table>"
      ],
      "text/plain": [
       "6×8 DataFrames.DataFrame. Omitted printing of 4 columns\n",
       "│ Row │ Preferred_Applicants │ First_Name │ Last_Name │ x1st_Preference   │\n",
       "├─────┼──────────────────────┼────────────┼───────────┼───────────────────┤\n",
       "│ 1   │ true                 │ Terresa    │ Eun       │ Wednesday Evening │\n",
       "│ 2   │ true                 │ Sue        │ Wang      │ Monday Dinner     │\n",
       "│ 3   │ true                 │ Kainoa     │ McCauley  │ Thursday Evening  │\n",
       "│ 4   │ true                 │ Ericardo   │ Edwards   │ Monday Evening    │\n",
       "│ 5   │ true                 │ Camille    │ DeSisto   │ Thursday Evening  │\n",
       "│ 6   │ \u001b[90mmissing\u001b[39m              │ Alexis     │ Ross      │ Wednesday Evening │"
      ]
     },
     "execution_count": 5,
     "metadata": {},
     "output_type": "execute_result"
    }
   ],
   "source": [
    "DataFrames.tail(raw)"
   ]
  },
  {
   "cell_type": "code",
   "execution_count": 6,
   "metadata": {},
   "outputs": [],
   "source": [
    "# describe the input table\n",
    "prefVolunteersCol = 1;\n",
    "firstNameCol = 2;\n",
    "lastNameCol = 3;\n",
    "firstPrefCol = 4;\n",
    "\n",
    "# count the number of volunteers\n",
    "n_V = size(raw,1);\n",
    "\n",
    "# build the list of preferred volunteers\n",
    "V_star = Int64[]\n",
    "for v = 1:n_V\n",
    "    if typeof(raw[v,prefVolunteersCol]) == Bool && raw[v,prefVolunteersCol] == true\n",
    "        push!(V_star, v);\n",
    "    end\n",
    "end\n",
    "\n",
    "# extract the volunteers' names\n",
    "volNames = Array{String,1}(n_V);\n",
    "for v = 1:n_V\n",
    "    firstName = raw[v,firstNameCol]\n",
    "    lastName = raw[v,lastNameCol]\n",
    "    volNames[v] = \"$firstName $lastName\"\n",
    "end\n",
    "\n",
    "# read in the volunteer preferences\n",
    "n_S = 4*7;  #shifts per day times number of days = total number of shifts\n",
    "\n",
    "## initialize the preference matrix \n",
    "p = Array{Int}(n_V,n_S)\n",
    "fill!(p,0)\n",
    "\n",
    "volPrefs = raw[1:n_V,firstPrefCol:(firstPrefCol+4)];\n",
    "for v = 1:n_V\n",
    "    for j = 1:5\n",
    "        # extract the jth choice of volunteer v\n",
    "        prefShift = volPrefs[v,j];\n",
    "        \n",
    "        # check for a string\n",
    "        if typeof(prefShift) == String #this is a string\n",
    "            # translate the string into a shift index\n",
    "            s = mapShiftStringToShiftInd(prefShift);\n",
    "            \n",
    "            # assign a value to the appropriate entry of the preference matrix\n",
    "            p[v,s] = 6 - j; #implies that \"first choice\" gets 5 priority points.\n",
    "            \n",
    "        else #not a string\n",
    "            #do nothing\n",
    "        end\n",
    "        \n",
    "    end\n",
    "end"
   ]
  },
  {
   "cell_type": "markdown",
   "metadata": {},
   "source": [
    "Similarly, executing the following two cells displays the top and bottom portions of the prefilled shifts input table.  Check the output to make sure there isn't any funny business going on."
   ]
  },
  {
   "cell_type": "code",
   "execution_count": 7,
   "metadata": {},
   "outputs": [
    {
     "data": {
      "text/html": [
       "<table class=\"data-frame\"><thead><tr><th></th><th>Shift</th><th>Group</th></tr></thead><tbody><tr><th>1</th><td>Sunday Dinner</td><td>Club 4</td></tr><tr><th>2</th><td>Saturday Dinner</td><td>Harvard Islamic Society</td></tr><tr><th>3</th><td>Tuesday Evening</td><td>Boston Campus Ministry</td></tr><tr><th>4</th><td>Thursday Evening</td><td>International 5</td></tr></tbody></table>"
      ],
      "text/plain": [
       "4×2 DataFrames.DataFrame\n",
       "│ Row │ Shift            │ Group                   │\n",
       "├─────┼──────────────────┼─────────────────────────┤\n",
       "│ 1   │ Sunday Dinner    │ Club 4                  │\n",
       "│ 2   │ Saturday Dinner  │ Harvard Islamic Society │\n",
       "│ 3   │ Tuesday Evening  │ Boston Campus Ministry  │\n",
       "│ 4   │ Thursday Evening │ International 5         │"
      ]
     },
     "execution_count": 7,
     "metadata": {},
     "output_type": "execute_result"
    }
   ],
   "source": [
    "# read in the pre-filled shifts\n",
    "raw = readtable(\"Prefilled Shifts.csv\")"
   ]
  },
  {
   "cell_type": "code",
   "execution_count": 8,
   "metadata": {},
   "outputs": [
    {
     "data": {
      "text/html": [
       "<table class=\"data-frame\"><thead><tr><th></th><th>Shift</th><th>Group</th></tr></thead><tbody><tr><th>1</th><td>Sunday Dinner</td><td>Club 4</td></tr><tr><th>2</th><td>Saturday Dinner</td><td>Harvard Islamic Society</td></tr><tr><th>3</th><td>Tuesday Evening</td><td>Boston Campus Ministry</td></tr><tr><th>4</th><td>Thursday Evening</td><td>International 5</td></tr></tbody></table>"
      ],
      "text/plain": [
       "4×2 DataFrames.DataFrame\n",
       "│ Row │ Shift            │ Group                   │\n",
       "├─────┼──────────────────┼─────────────────────────┤\n",
       "│ 1   │ Sunday Dinner    │ Club 4                  │\n",
       "│ 2   │ Saturday Dinner  │ Harvard Islamic Society │\n",
       "│ 3   │ Tuesday Evening  │ Boston Campus Ministry  │\n",
       "│ 4   │ Thursday Evening │ International 5         │"
      ]
     },
     "execution_count": 8,
     "metadata": {},
     "output_type": "execute_result"
    }
   ],
   "source": [
    "DataFrames.tail(raw)"
   ]
  },
  {
   "cell_type": "code",
   "execution_count": 9,
   "metadata": {},
   "outputs": [],
   "source": [
    "# initialize the set of pre-filled shift (blocks)\n",
    "n_S_T = size(raw,1)\n",
    "S_T = Array{Int}(n_S_T)\n",
    "\n",
    "# initialize the count of pre-filled shifts;\n",
    "prefilled_shifts = 0;\n",
    "\n",
    "# initialize the array of group names\n",
    "groupNames = Array{String}(n_S_T)\n",
    "\n",
    "# describe the table\n",
    "headRow = 1;\n",
    "shiftCol = 1;\n",
    "groupCol = 2;\n",
    "\n",
    "# loop over the pre-filled shifts\n",
    "for j = 1:n_S_T\n",
    "    # extract the shift string\n",
    "    shiftString = raw[j,shiftCol];\n",
    "    \n",
    "    # extract the group name string\n",
    "    groupNames[j] = raw[j,groupCol];\n",
    "    \n",
    "    # convert it into an index\n",
    "    s = mapShiftStringToShiftInd(shiftString);\n",
    "    \n",
    "    # increase the count of pre-filled shifts\n",
    "    n = mapShiftStringToVolunteersRequired(shiftString);\n",
    "    prefilled_shifts += n;\n",
    "    \n",
    "    # add this index to the set of pre-filled shifts\n",
    "    S_T[j] = s\n",
    "end\n",
    "\n",
    "# Define the other sets\n",
    "V = 1:n_V;\n",
    "S = 1:n_S;\n",
    "S_B = 4*(0:6) + 1;\n",
    "S_D = 4*(0:6) + 2;\n",
    "S_E = 4*(0:6) + 3;\n",
    "S_O = 4*(0:6) + 4;"
   ]
  },
  {
   "cell_type": "markdown",
   "metadata": {},
   "source": [
    "# Define and Solve the Optimization Problem\n",
    "## Initialize the Model and Define the Decision Variables"
   ]
  },
  {
   "cell_type": "code",
   "execution_count": 10,
   "metadata": {},
   "outputs": [
    {
     "data": {
      "text/latex": [
       "$$ z_{i} \\in \\{0,1\\} \\quad\\forall i \\in \\{1,2,\\dots,27,28\\} $$"
      ],
      "text/plain": [
       "28-element Array{JuMP.Variable,1}:\n",
       " z[1] \n",
       " z[2] \n",
       " z[3] \n",
       " z[4] \n",
       " z[5] \n",
       " z[6] \n",
       " z[7] \n",
       " z[8] \n",
       " z[9] \n",
       " z[10]\n",
       " z[11]\n",
       " z[12]\n",
       " z[13]\n",
       " ⋮    \n",
       " z[17]\n",
       " z[18]\n",
       " z[19]\n",
       " z[20]\n",
       " z[21]\n",
       " z[22]\n",
       " z[23]\n",
       " z[24]\n",
       " z[25]\n",
       " z[26]\n",
       " z[27]\n",
       " z[28]"
      ]
     },
     "execution_count": 10,
     "metadata": {},
     "output_type": "execute_result"
    }
   ],
   "source": [
    "# Describe the Optimization Problem\n",
    "using JuMP\n",
    "using Cbc\n",
    "\n",
    "# m = Model()  #original line\n",
    "m = Model(solver=CbcSolver())\n",
    "\n",
    "## define the decision variables\n",
    "@variable(m,x[1:n_V,1:n_S],Bin)\n",
    "\n",
    "## define the auxilliary decision variables indicating whether or not a shift has at least one individual\n",
    "@variable(m, z[1:n_S], Bin)"
   ]
  },
  {
   "cell_type": "markdown",
   "metadata": {},
   "source": [
    "## Define the Constraints"
   ]
  },
  {
   "cell_type": "code",
   "execution_count": 11,
   "metadata": {},
   "outputs": [],
   "source": [
    "## define the constraints\n",
    "### constraint 1\n",
    "for v in V\n",
    "    @constraint(m,sum(x[v,:]) <= 1)\n",
    "end\n",
    "\n",
    "### constraint 2\n",
    "@constraint(m,x .<= p)\n",
    "\n",
    "### constraint 3\n",
    "for s in S_D\n",
    "    @constraint(m,sum(x[:,s]) <= mapShiftStringToVolunteersRequired(\"Dinner\"))\n",
    "end\n",
    "\n",
    "### constraint 4\n",
    "for s in S_E\n",
    "    @constraint(m,sum(x[:,s]) <= mapShiftStringToVolunteersRequired(\"Evening\"))\n",
    "end\n",
    "\n",
    "### constraint 5\n",
    "for s in S_O\n",
    "    @constraint(m,sum(x[:,s]) <= mapShiftStringToVolunteersRequired(\"Overnight\"))\n",
    "end\n",
    "\n",
    "### constraint 6\n",
    "for s in S_B\n",
    "    @constraint(m,sum(x[:,s]) <= mapShiftStringToVolunteersRequired(\"Breakfast\"))\n",
    "end\n",
    "\n",
    "### constraint 7\n",
    "for s in S_T\n",
    "    @constraint(m,x[:,s] .== 0)\n",
    "end\n",
    "\n",
    "### constraint 8: enforce the logical relationship between x and z\n",
    "MaxVolunteersPerShift = 10\n",
    "for s in S\n",
    "    @constraint(m, MaxVolunteersPerShift*z[s] >= sum(x[:,s]))\n",
    "    @constraint(m, z[s] <= sum(x[:,s]))\n",
    "end"
   ]
  },
  {
   "cell_type": "markdown",
   "metadata": {},
   "source": [
    "## Define the Objective Function\n",
    "The objective function has several weighting coefficients, $w_1, w_2, w_3$, and $w_4$.\n",
    "Each of these coefficients corresponds to a particular objective.\n",
    "\n",
    "| Weighting Coefficient | Suggested Value | Objective |\n",
    "|:---------------------:|:---------------:|-----------|\n",
    "| $w_1$                 | 1               | Assignments are made based on preferences.      |\n",
    "| $w_2$                 | 5               |The preferred volunteers are more likely to be assigned a shift. |\n",
    "| $w_3$                 | 1               |Fill the most-difficult-to-fill shifts first. In particular, the overnight shift is typically the hardest to fill, the dinner and evening shifts are semi-hard to fill, and breakfast is easy. |\n",
    "| $w_4$                 | 1               |All shifts need to be covered.  |\n",
    "\n",
    "You can set the values of these coefficients in the cell below. \n",
    "Each coefficient most be nonnegative (i.e., $w_i \\geq 0$ for $i \\in \\{1,...,4\\}$).\n",
    "**The greater the value of the coefficient, the harder the code will try to accomplish the corresponding objective.**\n",
    "That being said, if you double each coefficient, it will make no difference to the code, because it is really the *ratios* between them that matter.\n",
    "\n",
    "You can also specify the weight you want the code to give to filling the overnight shift versus the dinner, evening, and breakfast shifts below.\n",
    "\n",
    "Manipulating these weighting coefficients will very likely effect the summary statistics and schedule produced by the code, but small changes in the weights may have no effect."
   ]
  },
  {
   "cell_type": "code",
   "execution_count": 12,
   "metadata": {},
   "outputs": [],
   "source": [
    "## You can change the weights in this cell, if you'd like, but don't change any other cells.\n",
    "### define the objective weights\n",
    "w1 = 1\n",
    "w2 = 1\n",
    "w3 = 2\n",
    "w4 = 1\n",
    "w5 = 10 # incentive to have at least one person on each shift\n",
    "\n",
    "### define the relative weights for the types of shifts\n",
    "overnight_weight = 4\n",
    "dinner_weight = 2\n",
    "evening_weight = 1\n",
    "breakfast_weight = 3;"
   ]
  },
  {
   "cell_type": "code",
   "execution_count": 13,
   "metadata": {},
   "outputs": [],
   "source": [
    "### objective 1\n",
    "c1 = p\n",
    "\n",
    "### objective 2\n",
    "c2 = zeros(n_V,n_S)\n",
    "for v in V_star\n",
    "    c2[v,:] = 1\n",
    "end\n",
    "\n",
    "### objective 3\n",
    "c3 = zeros(n_V,n_S)\n",
    "c3[:,S_O] = overnight_weight\n",
    "c3[:,S_D] = dinner_weight\n",
    "c3[:,S_E] = evening_weight\n",
    "c3[:,S_B] = breakfast_weight\n",
    "\n",
    "### objective 4\n",
    "c4 = ones(n_V,n_S)\n",
    "\n",
    "### objective 5\n",
    "b = w5*ones(n_S)\n",
    "\n",
    "### add all the objectives together\n",
    "c = w1*c1 + w2*c2 + w3*c3 + w4*c4\n",
    "\n",
    "### define the objective function\n",
    "@objective(m,Max,sum(sum(c.*x)) + sum(b.*z));"
   ]
  },
  {
   "cell_type": "markdown",
   "metadata": {},
   "source": [
    "## Solve the Optimization Problem\n",
    "This cell should think for a few seconds, and then display one word: \"Optimal\"."
   ]
  },
  {
   "cell_type": "code",
   "execution_count": 14,
   "metadata": {},
   "outputs": [
    {
     "name": "stdout",
     "output_type": "stream",
     "text": [
      "Optimal\n"
     ]
    }
   ],
   "source": [
    "# Solve the Optimization Problem\n",
    "status = solve(m)\n",
    "println(status)\n",
    "\n",
    "# extract the numerical solution\n",
    "x = round(Int,getvalue(x));\n"
   ]
  },
  {
   "cell_type": "markdown",
   "metadata": {},
   "source": [
    "# Export the Results\n",
    "## Export Volunteer-Focused Table\n",
    "This cell constructs and outputs a table listing all of the volunteers in the first column and their shift assignment (if any) in the second."
   ]
  },
  {
   "cell_type": "code",
   "execution_count": 15,
   "metadata": {},
   "outputs": [],
   "source": [
    "# Export the results\n",
    "## Export a table showing the assignment of each volunteer\n",
    "### convert the numerical solution into plain english\n",
    "shiftStrings = Array{String}(n_V)\n",
    "for v in V\n",
    "    # look to see if this volunteer was assigned\n",
    "    if sum(x[v,:]) == 1 #this volunteer was assigned\n",
    "        # extract the shift index\n",
    "        s = findfirst(x[v,:]);\n",
    "        \n",
    "        # figure out which shift this corresponds to (in English)\n",
    "        shiftStr = mapShiftIndToShiftString(s);\n",
    "        \n",
    "        # store the shift string\n",
    "        shiftStrings[v] = shiftStr\n",
    "    else\n",
    "        shiftStrings[v] = \"\"\n",
    "    end\n",
    "end\n",
    "\n",
    "# write the results to Excel\n",
    "using DataArrays, DataFrames, CSV\n",
    "volunteerAssignments = DataFrame(Volunteer = volNames, Shift_Assignment = shiftStrings)\n",
    "CSV.write(\"Volunteer Focused Output.csv\", volunteerAssignments);"
   ]
  },
  {
   "cell_type": "markdown",
   "metadata": {},
   "source": [
    "## Export Shift-Focused Table\n",
    "This cell constructs and outputs a table showing each shift in the first column and the people who have been assigned to the shift in subsequent columns. \n",
    "This table is preferred for checking that each shift has been covered.\n",
    "Shifts that have not been covered will be marked with a warning."
   ]
  },
  {
   "cell_type": "code",
   "execution_count": 16,
   "metadata": {
    "scrolled": true
   },
   "outputs": [],
   "source": [
    "# Export a table showing the staffing of each shift\n",
    "## initialize the cell arrays\n",
    "shiftNames = fill(\"\",n_S) #Array{String}(n_S);\n",
    "shiftStaff = fill(\"\",(n_S,6)) #Array{String}(n_S,6);\n",
    "underStaffedWarning = fill(\"\",n_S) #Array{String}(n_S);\n",
    "\n",
    "## initialize the count of under-staffed shifts\n",
    "underStaffedShifts = 0;\n",
    "\n",
    "## loop over the shifts\n",
    "for s in S\n",
    "    # store the shift name\n",
    "    shiftNames[s] = mapShiftIndToShiftString(s)\n",
    "    \n",
    "    # check whether or not this is a pre-filled shift\n",
    "    if !(s in S_T) # this is not a prefilled shift\n",
    "        # extract the names of the volunteers assigned to the shift\n",
    "        tempShiftStaffNames = volNames[find(x[:,s])]\n",
    "        for v = 1:length(tempShiftStaffNames)\n",
    "            shiftStaff[s,v] = tempShiftStaffNames[v]\n",
    "        end\n",
    "        \n",
    "        # check for understaffing\n",
    "        if length(tempShiftStaffNames) < mapShiftStringToVolunteersRequired(mapShiftIndToShiftString(s))\n",
    "            underStaffedWarning[s] = \"WARNING: Under-staffed shift.\"\n",
    "            \n",
    "            # increment the count of understaffed shifts\n",
    "            underStaffedShifts += 1\n",
    "        end\n",
    "    else # this is a prefilled shift\n",
    "        shiftStaff[s,1] = groupNames[findfirst(S_T,s)];\n",
    "    end\n",
    "end\n",
    "\n",
    "# put the table together\n",
    "df = DataFrame(Shift = shiftNames, Shift_Staff1 = shiftStaff[:,1],Shift_Staff2 = shiftStaff[:,2],Shift_Staff3 = shiftStaff[:,3],Shift_Staff4 = shiftStaff[:,4],Shift_Staff5 = shiftStaff[:,5],Shift_Staff6 = shiftStaff[:,6], Under_Staffing_Warning = underStaffedWarning)\n",
    "\n",
    "# write the results to Excel\n",
    "using CSV\n",
    "CSV.write(\"Shift Focused Output.csv\",df);"
   ]
  },
  {
   "cell_type": "markdown",
   "metadata": {},
   "source": [
    "# Display Statistics\n",
    "This code prints some statistics that give you a sense of the quality of the schedule generated."
   ]
  },
  {
   "cell_type": "code",
   "execution_count": 17,
   "metadata": {},
   "outputs": [
    {
     "name": "stdout",
     "output_type": "stream",
     "text": [
      "Fraction of volunteers assigned:\n",
      "0.510989010989011\n",
      "Fraction of staffing requirements covered:\n",
      "0.8195488721804511\n",
      "Number of Under-Staffed Shifts:\n",
      "2\n",
      "Fraction of 1st choice assignments:\n",
      "0.8172043010752689\n",
      "Fraction of 2nd choice assignments:\n",
      "0.08602150537634409\n",
      "Fraction of 3rd choice assignments:\n",
      "0.07526881720430108\n",
      "Fraction of 4th choice assignments:\n",
      "0.0\n",
      "Fraction of 5th choice assignments:\n",
      "0.021505376344086023\n",
      "Sum of fractions:\n",
      "1.0000000000000002\n",
      "Fraction of preferred volunteers assigned\n",
      "0.8513513513513513\n"
     ]
    }
   ],
   "source": [
    "# display some statistics\n",
    "println(\"Fraction of volunteers assigned:\")\n",
    "n_assignments = sum(sum(x))\n",
    "println(n_assignments/n_V)\n",
    "\n",
    "println(\"Fraction of staffing requirements covered:\")\n",
    "println((n_assignments + prefilled_shifts)/(7*(5 + 4 + 4 + 6)))\n",
    "\n",
    "println(\"Number of Under-Staffed Shifts:\")\n",
    "println(underStaffedShifts)\n",
    "\n",
    "choiceSum = zeros(5,1)\n",
    "for v in V\n",
    "    s = findfirst(x[v,:])\n",
    "    if s > 0\n",
    "        choiceIndex = 6 - p[v,s]\n",
    "        choiceSum[choiceIndex] = choiceSum[choiceIndex] + 1;\n",
    "    end\n",
    "end\n",
    "choiceFraction = choiceSum ./ n_assignments;\n",
    "println(\"Fraction of 1st choice assignments:\")\n",
    "println(choiceFraction[1]);\n",
    "println(\"Fraction of 2nd choice assignments:\")\n",
    "println(choiceFraction[2]);\n",
    "println(\"Fraction of 3rd choice assignments:\")\n",
    "println(choiceFraction[3]);\n",
    "println(\"Fraction of 4th choice assignments:\")\n",
    "println(choiceFraction[4]);\n",
    "println(\"Fraction of 5th choice assignments:\")\n",
    "println(choiceFraction[5]);\n",
    "println(\"Sum of fractions:\")\n",
    "println(sum(choiceFraction));\n",
    "\n",
    "println(\"Fraction of preferred volunteers assigned\")\n",
    "n_assignments = sum(sum(x[V_star,:]));\n",
    "println(n_assignments/length(V_star))"
   ]
  },
  {
   "cell_type": "markdown",
   "metadata": {
    "collapsed": true
   },
   "source": [
    "# The End\n",
    "If you like what you see, go to the JuliBox tab, which you still have open and check out the output files.\n",
    "Instructions for doing this can be found in the README in the GitHub repository for this code.\n",
    "\n",
    "If you don't like what you see, consider tweaking the weights in the \"Defining the Objective Function\" section.\n"
   ]
  }
 ],
 "metadata": {
  "anaconda-cloud": {},
  "kernelspec": {
   "display_name": "Julia 0.6.4",
   "language": "julia",
   "name": "julia-0.6"
  },
  "language_info": {
   "file_extension": ".jl",
   "mimetype": "application/julia",
   "name": "julia",
   "version": "0.6.4"
  }
 },
 "nbformat": 4,
 "nbformat_minor": 1
}
