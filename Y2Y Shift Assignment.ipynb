{
 "cells": [
  {
   "cell_type": "markdown",
   "metadata": {},
   "source": [
    "# Introduction\n",
    "This notebook was created by Garrett R. Dowdy (gdowdy3@gmail.com) to solve Y2Y's shift assignment problem.\n",
    "\n",
    "The notebook consists of a series of gray boxes (\"cells\") containing code.\n",
    "The cells are divided up into sections by bold headers  -- \"Introduction\", \"Setup\", and so on.\n",
    "Many of these headers are accompanied by explanatory text.\n",
    "\n",
    "To run this code:\n",
    "\n",
    "1. Verify that the \"Individual Preferences.csv\" and \"Prefilled Shifts.csv\" files have been uploaded to the same JuliaBox folder as the .pynb file that you clicked to open this notebook. Note: the spelling must be *exact*.\n",
    "2. On the menu bar above, select **Cell** --> **All Output** --> **Clear**\n",
    "3. Moving down the document, run each cell in sequence,  reading the explanatory text and checking for errors as you go.\n",
    "4. Check the summary statistics printed by the final cell.\n",
    "5. Check the output csv files added to the current JuliaBox folder (see previous tab in your browser).\n",
    "6. If you are happy with the results, great!  If not, tweak the objective weights in the \"Define the Objective Function\" section and start over, returning to Step 2.\n",
    "7. You can exit this notebook gracefully by selecting **File** --> **Close and Halt**.\n",
    "\n",
    "A cell is run by clicking in the gray box and then pressing [ctrl] + [enter] on your keyboard. \n",
    "You will know that a cell is executed when the \"In[ ]\" to its left is replaced with \"In[#]\", where \"#\" is a number. \n",
    "\"In[\\*]\" indicates that the cell is currently executing.  You can use the up and down arrow keys to move between cells."
   ]
  },
  {
   "cell_type": "markdown",
   "metadata": {},
   "source": [
    "# Setup\n",
    "## Add Packages\n",
    "The code makes use of several \"packages\".  Before using these packages we have to add them.  You don't have to do this every time you run the code.  Just do it once, every time you sit down to work with the code."
   ]
  },
  {
   "cell_type": "code",
   "execution_count": 3,
   "metadata": {},
   "outputs": [],
   "source": [
    "# UPDATE LOG\n",
    "# Iteration    Date          Changes\n",
    "#-------------------------------------------------------------------------------------------------------------------------------\n",
    "# 5            8-Jan-2017    Organized the code and added commentary.\n",
    "#                            Added a weighting coefficient for the first objective.\n",
    "#\n",
    "# 6            8-Jan-2017    Added just a little more explanation.  \n",
    "# 7            2-Oct-2017    Corrected some embarrassing typos in the introduction.\n",
    "# 8            3-Feb-2018    Corrected the call of the \"tail\" function, to reflect Julia updates.\n",
    "\n",
    "# # Add packages as necessary\n",
    "# Pkg.update()\n",
    "# Pkg.add(\"JuMP\")\n",
    "# Pkg.add(\"Clp\")\n",
    "# Pkg.add(\"DataFrames\")"
   ]
  },
  {
   "cell_type": "markdown",
   "metadata": {},
   "source": [
    "## Define Custom Functions\n",
    "The code makes use of some custom-made functions.  So that they don't disrupt the flow of logic in the body of the code below, it is best to define them here.  As with the previous cell, you don't have to run this cell every time you run the code.  Just do it once, every time you sit down to work with the code"
   ]
  },
  {
   "cell_type": "code",
   "execution_count": 4,
   "metadata": {},
   "outputs": [
    {
     "data": {
      "text/plain": [
       "mapShiftStringToShiftInd (generic function with 1 method)"
      ]
     },
     "execution_count": 4,
     "metadata": {},
     "output_type": "execute_result"
    }
   ],
   "source": [
    "function mapShiftStringToShiftInd(shiftString::String)\n",
    "#Inputs:\n",
    "#   shiftString = a string describing a shift. E.g., \"Monday Dinner\" or\n",
    "#   \"Saturday Evening\".\n",
    "#\n",
    "#Outputs:\n",
    "#   shiftInd = the corresponding shift index, based on the following table:\n",
    "#           Shift String        Shift Index\n",
    "#           Monday Breakfast    1\n",
    "#           Monday Dinner       2\n",
    "#           Monday Evening      3\n",
    "#           Monday Overnight    4\n",
    "#           Tuesday Breakfast   5\n",
    "#           .\n",
    "#           .\n",
    "#           .\n",
    "#           Sunday Evening      27\n",
    "#           Sunday Overnight    28\n",
    "\n",
    "    #translate the string into a shift index\n",
    "    spacePos = searchindex(shiftString,\" \");\n",
    "    day = shiftString[1:(spacePos-1)];\n",
    "    period = shiftString[(spacePos+1):end];\n",
    "\n",
    "    #initialize the day dictionary\n",
    "    dayDict = Dict{String,Int}()\n",
    "\n",
    "    #add the entries to the day dictionary\n",
    "    dayDict[\"Monday\"] = 0\n",
    "    dayDict[\"Tuesday\"] = 1\n",
    "    dayDict[\"Wednesday\"] = 2\n",
    "    dayDict[\"Thursday\"] = 3\n",
    "    dayDict[\"Friday\"] = 4\n",
    "    dayDict[\"Saturday\"] = 5\n",
    "    dayDict[\"Sunday\"] = 6\n",
    "\n",
    "    #retrieve the index corresponding to the day\n",
    "    s_d = dayDict[day]\n",
    "\n",
    "    #initialize the period dictionary\n",
    "    periodDict = Dict{String,Int}()\n",
    "\n",
    "    #add the entries to the period dictionary\n",
    "    periodDict[\"Breakfast\"] = 1\n",
    "    periodDict[\"Dinner\"] = 2\n",
    "    periodDict[\"Evening\"] = 3\n",
    "    periodDict[\"Overnight\"] = 4\n",
    "\n",
    "    #retrieve the index corresponding to the period\n",
    "    s_p = periodDict[period]\n",
    "\n",
    "    #calculate the shift index\n",
    "    shiftInd = 4*s_d + s_p;\n",
    "\n",
    "    return shiftInd\n",
    "end"
   ]
  },
  {
   "cell_type": "code",
   "execution_count": 5,
   "metadata": {},
   "outputs": [
    {
     "data": {
      "text/plain": [
       "mapShiftStringToVolunteersRequired (generic function with 1 method)"
      ]
     },
     "execution_count": 5,
     "metadata": {},
     "output_type": "execute_result"
    }
   ],
   "source": [
    "function mapShiftStringToVolunteersRequired(shiftString::String)\n",
    "#Inputs:\n",
    "#   shiftString = a string describing a shift. E.g., 'Monday Dinner' or\n",
    "#   'Saturday Evening'.\n",
    "#\n",
    "#Outputs:\n",
    "#   n = the number of volunteers required for the specified shift,\n",
    "#   according to the following table:\n",
    "#           Shift Period        Volunteers Required\n",
    "#           Breakfast           6\n",
    "#           Dinner              5\n",
    "#           Evening             4\n",
    "#           Overnight           4\n",
    "\n",
    "\n",
    "    #translate the string into a shift index\n",
    "    spacePos = searchindex(shiftString,\" \");\n",
    "    period = shiftString[(spacePos + 1):end];\n",
    "\n",
    "    if period == \"Breakfast\"\n",
    "        n = 6\n",
    "    elseif period == \"Dinner\"\n",
    "        n = 5\n",
    "    elseif period == \"Evening\"\n",
    "        n = 4\n",
    "    elseif period == \"Overnight\"\n",
    "        n = 4\n",
    "    else\n",
    "        error(\"The given shift string $shiftString does not match the expected format.\")    \n",
    "    end\n",
    "\n",
    "    return n\n",
    "\n",
    "end"
   ]
  },
  {
   "cell_type": "code",
   "execution_count": 6,
   "metadata": {},
   "outputs": [
    {
     "data": {
      "text/plain": [
       "mapShiftIndToShiftString (generic function with 1 method)"
      ]
     },
     "execution_count": 6,
     "metadata": {},
     "output_type": "execute_result"
    }
   ],
   "source": [
    "function mapShiftIndToShiftString(s)\n",
    "#Inputs:\n",
    "#   s = an index, which has a corresponding shift.  The relationship\n",
    "#       is established by the following table:\n",
    "#           Shift String        Shift Index\n",
    "#           Monday Breakfast    1\n",
    "#           Monday Dinner       2\n",
    "#           Monday Evening      3\n",
    "#           Monday Overnight    4\n",
    "#           Tuesday Breakfast   5\n",
    "#           .\n",
    "#           .\n",
    "#           .\n",
    "#           Sunday Evening      27\n",
    "#           Sunday Overnight    28\n",
    "#\n",
    "#Outputs:\n",
    "#   shiftString = the shift string taken from the above table.\n",
    "\n",
    "\n",
    "    #figure out which day this corresponds to\n",
    "    dayInd = ceil(s/4);\n",
    "    if dayInd == 1\n",
    "        dayStr = \"Monday\"\n",
    "    elseif dayInd == 2\n",
    "        dayStr = \"Tuesday\"\n",
    "    elseif dayInd == 3\n",
    "        dayStr = \"Wednesday\"\n",
    "    elseif dayInd == 4\n",
    "        dayStr = \"Thursday\"\n",
    "    elseif dayInd == 5\n",
    "        dayStr = \"Friday\"\n",
    "    elseif dayInd == 6\n",
    "        dayStr = \"Saturday\"\n",
    "    elseif dayInd == 7\n",
    "        dayStr = \"Sunday\"\n",
    "    else\n",
    "        error(\"The given shift index $s is outside of the expected range.\")\n",
    "    end\n",
    "\n",
    "    # figure out which period this corresponds to\n",
    "    perInd = s%4\n",
    "    if perInd == 0\n",
    "        perStr = \"Overnight\"\n",
    "    elseif perInd == 1\n",
    "        perStr = \"Breakfast\"\n",
    "    elseif perInd == 2\n",
    "        perStr = \"Dinner\"\n",
    "    elseif perInd == 3\n",
    "        perStr = \"Evening\"\n",
    "    else\n",
    "        error(\"The given shift index $s is outside of the expected range.\")\n",
    "    end\n",
    "\n",
    "    # construct the shift string\n",
    "    shiftString = \"$dayStr $perStr\";\n",
    "\n",
    "    return shiftString\n",
    "end"
   ]
  },
  {
   "cell_type": "markdown",
   "metadata": {},
   "source": [
    "# Read in the Problem Data\n",
    "There are two sources of data which define the problem:\n",
    "\n",
    "1. A csv file showing the shift assignment preferences for each individual: \"Individual Preferences.csv\".\n",
    "2. A csv file showing which shifts have been prefilled: \"Prefilled Shifts.csv\".\n",
    "\n",
    "In this section of the code, these two data files are imported and interpreted.\n",
    "\n",
    "Executing the following two cells displays the top and bottom portions of the preferences input table.  Check the output to make sure there isn't any funny business going on."
   ]
  },
  {
   "cell_type": "code",
   "execution_count": 7,
   "metadata": {
    "scrolled": true
   },
   "outputs": [
    {
     "data": {
      "text/html": [
       "<table class=\"data-frame\"><thead><tr><th></th><th>_Preferred_Applicants</th><th>First_Name</th><th>Last_Name</th><th>x1st_Preference</th><th>x2nd_Preference</th><th>x3rd_Preference</th><th>x4th_Preference</th><th>x5th_Preference</th></tr></thead><tbody><tr><th>1</th><td>missing</td><td>missing</td><td>missing</td><td>Wednesday Dinner</td><td>Monday Dinner</td><td>Tuesday Dinner</td><td>Thursday Evening</td><td>Wednesday Evening</td></tr><tr><th>2</th><td>missing</td><td>Adam</td><td>Friedman</td><td>Tuesday Evening</td><td>Tuesday Dinner</td><td>Monday Evening</td><td>Monday Dinner</td><td>Wednesday Evening</td></tr><tr><th>3</th><td>missing</td><td>Aditi</td><td>Chitkara</td><td>Saturday Breakfast</td><td>Sunday Breakfast</td><td>Friday Evening</td><td>Saturday Evening</td><td>Sunday Evening</td></tr><tr><th>4</th><td>missing</td><td>Ajay</td><td>Singh</td><td>Wednesday Overnight</td><td>Sunday Evening</td><td>Tuesday Dinner</td><td>Wednesday Evening</td><td>Monday Evening</td></tr><tr><th>5</th><td>missing</td><td>Alexander</td><td>Friedman</td><td>Tuesday Dinner</td><td>Wednesday Dinner</td><td>Monday Dinner</td><td>Tuesday Evening</td><td>Wednesday Evening</td></tr><tr><th>6</th><td>missing</td><td>Alexandra</td><td>Cunningham</td><td>Sunday Evening</td><td>missing</td><td>missing</td><td>missing</td><td>missing</td></tr><tr><th>7</th><td>missing</td><td>Allan</td><td>Cramblitt</td><td>Monday Breakfast</td><td>Friday Breakfast</td><td>Thursday Breakfast</td><td>Tuesday Breakfast</td><td>Wednesday Breakfast</td></tr><tr><th>8</th><td>missing</td><td>Analysia</td><td>Watley</td><td>Thursday Breakfast</td><td>Sunday Breakfast</td><td>Tuesday Dinner</td><td>Wednesday Dinner</td><td>Saturday Dinner</td></tr><tr><th>9</th><td>true</td><td>Andrew</td><td>Xu</td><td>Tuesday Breakfast</td><td>Wednesday Breakfast</td><td>Thursday Breakfast</td><td>Friday Breakfast</td><td>Friday Breakfast</td></tr><tr><th>10</th><td>missing</td><td>Andy</td><td>Chan</td><td>Monday Evening</td><td>Wednesday Evening</td><td>Thursday Evening</td><td>Friday Evening</td><td>Saturday Evening</td></tr><tr><th>11</th><td>true</td><td>Angelica</td><td>Torres</td><td>Saturday Dinner</td><td>Thursday Evening</td><td>Monday Dinner</td><td>Tuesday Breakfast</td><td>Friday Overnight</td></tr><tr><th>12</th><td>missing</td><td>Anton</td><td>Gillespie</td><td>missing</td><td>missing</td><td>missing</td><td>missing</td><td>missing</td></tr><tr><th>13</th><td>true</td><td>Arian</td><td>Mansur</td><td>Friday Breakfast</td><td>Monday Dinner</td><td>Monday Evening</td><td>Tuesday Breakfast</td><td>Wednesday Dinner</td></tr><tr><th>14</th><td>missing</td><td>Ashiley</td><td>Lee</td><td>Saturday Dinner</td><td>Sunday Evening</td><td>Thursday Evening</td><td>missing</td><td>missing</td></tr><tr><th>15</th><td>missing</td><td>Avanish</td><td>Mishra</td><td>Wednesday Evening</td><td>Saturday Evening</td><td>Sunday Evening</td><td>missing</td><td>missing</td></tr><tr><th>16</th><td>missing</td><td>Becky</td><td>Ambila</td><td>Saturday Dinner</td><td>Saturday Evening</td><td>missing</td><td>missing</td><td>missing</td></tr><tr><th>17</th><td>missing</td><td>Ben</td><td>Lacey</td><td>Thursday Evening</td><td>Wednesday Evening</td><td>Tuesday Evening</td><td>Wednesday Dinner</td><td>missing</td></tr><tr><th>18</th><td>missing</td><td>Brian</td><td>Wei</td><td>Tuesday Dinner</td><td>missing</td><td>missing</td><td>missing</td><td>missing</td></tr><tr><th>19</th><td>missing</td><td>Bryce</td><td>McDonald</td><td>Wednesday Evening</td><td>Monday Evening</td><td>Tuesday Evening</td><td>Friday Evening</td><td>Friday Breakfast</td></tr><tr><th>20</th><td>true</td><td>Cameron</td><td>Jones</td><td>Thursday Evening</td><td>Wednesday Evening</td><td>Wednesday Dinner</td><td>Monday Evening</td><td>Monday Dinner</td></tr><tr><th>21</th><td>missing</td><td>Cameron</td><td>Khansarinia</td><td>Sunday Evening</td><td>Wednesday Dinner</td><td>Monday Dinner</td><td>missing</td><td>missing</td></tr><tr><th>22</th><td>missing</td><td>Casey</td><td>McClellan</td><td>Thursday Overnight</td><td>Saturday Evening</td><td>Saturday Overnight</td><td>Friday Breakfast</td><td>Friday Evening</td></tr><tr><th>23</th><td>missing</td><td>Catriona</td><td>Barr</td><td>missing</td><td>missing</td><td>missing</td><td>missing</td><td>missing</td></tr><tr><th>24</th><td>true</td><td>Charlotte</td><td>Davis</td><td>Tuesday Evening</td><td>missing</td><td>missing</td><td>missing</td><td>missing</td></tr><tr><th>25</th><td>missing</td><td>Christina</td><td>Obolenskaya</td><td>Tuesday Dinner</td><td>Wednesday Dinner</td><td>Monday Dinner</td><td>missing</td><td>missing</td></tr><tr><th>26</th><td>true</td><td>Christine</td><td>Bishundat</td><td>Sunday Evening</td><td>Saturday Evening</td><td>Sunday Breakfast</td><td>missing</td><td>missing</td></tr><tr><th>27</th><td>missing</td><td>Christopher</td><td>Altizer</td><td>Saturday Breakfast</td><td>Thursday Evening</td><td>Friday Breakfast</td><td>missing</td><td>missing</td></tr><tr><th>28</th><td>missing</td><td>Christopher</td><td>Espinoza</td><td>Wednesday Evening</td><td>Monday Evening</td><td>Wednesday Dinner</td><td>Monday Dinner</td><td>Thursday Evening</td></tr><tr><th>29</th><td>missing</td><td>Cindy</td><td>Li</td><td>Wednesday Dinner</td><td>Monday Dinner</td><td>missing</td><td>missing</td><td>missing</td></tr><tr><th>30</th><td>true</td><td>Clio</td><td>Griffin</td><td>Thursday Evening</td><td>Tuesday Evening</td><td>Tuesday Dinner</td><td>Wednesday Breakfast</td><td>missing</td></tr><tr><th>&vellip;</th><td>&vellip;</td><td>&vellip;</td><td>&vellip;</td><td>&vellip;</td><td>&vellip;</td><td>&vellip;</td><td>&vellip;</td><td>&vellip;</td></tr></tbody></table>"
      ],
      "text/plain": [
       "164×8 DataFrames.DataFrame. Omitted printing of 4 columns\n",
       "│ Row │ _Preferred_Applicants │ First_Name │ Last_Name   │ x1st_Preference     │\n",
       "├─────┼───────────────────────┼────────────┼─────────────┼─────────────────────┤\n",
       "│ 1   │ \u001b[90mmissing\u001b[39m               │ \u001b[90mmissing\u001b[39m    │ \u001b[90mmissing\u001b[39m     │ Wednesday Dinner    │\n",
       "│ 2   │ \u001b[90mmissing\u001b[39m               │ Adam       │ Friedman    │ Tuesday Evening     │\n",
       "│ 3   │ \u001b[90mmissing\u001b[39m               │ Aditi      │ Chitkara    │ Saturday Breakfast  │\n",
       "│ 4   │ \u001b[90mmissing\u001b[39m               │ Ajay       │ Singh       │ Wednesday Overnight │\n",
       "│ 5   │ \u001b[90mmissing\u001b[39m               │ Alexander  │ Friedman    │ Tuesday Dinner      │\n",
       "│ 6   │ \u001b[90mmissing\u001b[39m               │ Alexandra  │ Cunningham  │ Sunday Evening      │\n",
       "│ 7   │ \u001b[90mmissing\u001b[39m               │ Allan      │ Cramblitt   │ Monday Breakfast    │\n",
       "│ 8   │ \u001b[90mmissing\u001b[39m               │ Analysia   │ Watley      │ Thursday Breakfast  │\n",
       "│ 9   │ true                  │ Andrew     │ Xu          │ Tuesday Breakfast   │\n",
       "│ 10  │ \u001b[90mmissing\u001b[39m               │ Andy       │ Chan        │ Monday Evening      │\n",
       "│ 11  │ true                  │ Angelica   │ Torres      │ Saturday Dinner     │\n",
       "⋮\n",
       "│ 153 │ \u001b[90mmissing\u001b[39m               │ Thomas     │ LaSalle     │ Monday Breakfast    │\n",
       "│ 154 │ \u001b[90mmissing\u001b[39m               │ Thomas     │ Rienas      │ Monday Evening      │\n",
       "│ 155 │ \u001b[90mmissing\u001b[39m               │ Travis     │ Percy       │ Saturday Breakfast  │\n",
       "│ 156 │ \u001b[90mmissing\u001b[39m               │ Valerie    │ Zhang       │ Thursday Evening    │\n",
       "│ 157 │ \u001b[90mmissing\u001b[39m               │ Vanessa    │ Ntungwanayo │ Tuesday Dinner      │\n",
       "│ 158 │ \u001b[90mmissing\u001b[39m               │ William    │ Penzer      │ Thursday Breakfast  │\n",
       "│ 159 │ true                  │ William    │ Stainier    │ Monday Evening      │\n",
       "│ 160 │ \u001b[90mmissing\u001b[39m               │ Xueya      │ Qiu         │ Saturday Evening    │\n",
       "│ 161 │ true                  │ Yael       │ Saiger      │ Thursday Evening    │\n",
       "│ 162 │ \u001b[90mmissing\u001b[39m               │ Yasmin     │ Sachee      │ Sunday Evening      │\n",
       "│ 163 │ \u001b[90mmissing\u001b[39m               │ Yebin      │ Park        │ Tuesday Evening     │\n",
       "│ 164 │ true                  │ Yiyuan     │ Hu          │ Monday Dinner       │"
      ]
     },
     "execution_count": 7,
     "metadata": {},
     "output_type": "execute_result"
    }
   ],
   "source": [
    "# Read in the individual preferences\n",
    "using DataFrames, DataArrays\n",
    "raw = readtable(\"Individual Preferences.csv\")"
   ]
  },
  {
   "cell_type": "code",
   "execution_count": 8,
   "metadata": {
    "scrolled": true
   },
   "outputs": [
    {
     "data": {
      "text/html": [
       "<table class=\"data-frame\"><thead><tr><th></th><th>_Preferred_Applicants</th><th>First_Name</th><th>Last_Name</th><th>x1st_Preference</th><th>x2nd_Preference</th><th>x3rd_Preference</th><th>x4th_Preference</th><th>x5th_Preference</th></tr></thead><tbody><tr><th>1</th><td>true</td><td>William</td><td>Stainier</td><td>Monday Evening</td><td>Monday Dinner</td><td>Tuesday Evening</td><td>Tuesday Dinner</td><td>Wednesday Dinner</td></tr><tr><th>2</th><td>missing</td><td>Xueya</td><td>Qiu</td><td>Saturday Evening</td><td>Friday Evening</td><td>Saturday Overnight</td><td>Monday Evening</td><td>Monday Overnight</td></tr><tr><th>3</th><td>true</td><td>Yael</td><td>Saiger</td><td>Thursday Evening</td><td>Wednesday Evening</td><td>Sunday Evening</td><td>Tuesday Evening</td><td>Tuesday Dinner</td></tr><tr><th>4</th><td>missing</td><td>Yasmin</td><td>Sachee</td><td>Sunday Evening</td><td>Wednesday Dinner</td><td>missing</td><td>missing</td><td>missing</td></tr><tr><th>5</th><td>missing</td><td>Yebin</td><td>Park</td><td>Tuesday Evening</td><td>missing</td><td>missing</td><td>missing</td><td>missing</td></tr><tr><th>6</th><td>true</td><td>Yiyuan</td><td>Hu</td><td>Monday Dinner</td><td>Tuesday Dinner</td><td>Wednesday Dinner</td><td>Monday Breakfast</td><td>Tuesday Breakfast</td></tr></tbody></table>"
      ],
      "text/plain": [
       "6×8 DataFrames.DataFrame. Omitted printing of 4 columns\n",
       "│ Row │ _Preferred_Applicants │ First_Name │ Last_Name │ x1st_Preference  │\n",
       "├─────┼───────────────────────┼────────────┼───────────┼──────────────────┤\n",
       "│ 1   │ true                  │ William    │ Stainier  │ Monday Evening   │\n",
       "│ 2   │ \u001b[90mmissing\u001b[39m               │ Xueya      │ Qiu       │ Saturday Evening │\n",
       "│ 3   │ true                  │ Yael       │ Saiger    │ Thursday Evening │\n",
       "│ 4   │ \u001b[90mmissing\u001b[39m               │ Yasmin     │ Sachee    │ Sunday Evening   │\n",
       "│ 5   │ \u001b[90mmissing\u001b[39m               │ Yebin      │ Park      │ Tuesday Evening  │\n",
       "│ 6   │ true                  │ Yiyuan     │ Hu        │ Monday Dinner    │"
      ]
     },
     "execution_count": 8,
     "metadata": {},
     "output_type": "execute_result"
    }
   ],
   "source": [
    "DataFrames.tail(raw)"
   ]
  },
  {
   "cell_type": "code",
   "execution_count": 9,
   "metadata": {},
   "outputs": [],
   "source": [
    "# describe the input table\n",
    "prefVolunteersCol = 1;\n",
    "firstNameCol = 2;\n",
    "lastNameCol = 3;\n",
    "firstPrefCol = 4;\n",
    "\n",
    "# count the number of volunteers\n",
    "n_V = size(raw,1);\n",
    "\n",
    "# build the list of preferred volunteers\n",
    "V_star = Int64[]\n",
    "for v = 1:n_V\n",
    "    if typeof(raw[v,prefVolunteersCol]) == Bool && raw[v,prefVolunteersCol] == true\n",
    "        push!(V_star, v);\n",
    "    end\n",
    "end\n",
    "\n",
    "# extract the volunteers' names\n",
    "volNames = Array{String,1}(n_V);\n",
    "for v = 1:n_V\n",
    "    firstName = raw[v,firstNameCol]\n",
    "    lastName = raw[v,lastNameCol]\n",
    "    volNames[v] = \"$firstName $lastName\"\n",
    "end\n",
    "\n",
    "# read in the volunteer preferences\n",
    "n_S = 4*7;  #shifts per day times number of days = total number of shifts\n",
    "\n",
    "## initialize the preference matrix \n",
    "p = Array{Int}(n_V,n_S)\n",
    "fill!(p,0)\n",
    "\n",
    "volPrefs = raw[1:n_V,firstPrefCol:(firstPrefCol+4)];\n",
    "for v = 1:n_V\n",
    "    for j = 1:5\n",
    "        # extract the jth choice of volunteer v\n",
    "        prefShift = volPrefs[v,j];\n",
    "        \n",
    "        # check for a string\n",
    "        if typeof(prefShift) == String #this is a string\n",
    "            # translate the string into a shift index\n",
    "            s = mapShiftStringToShiftInd(prefShift);\n",
    "            \n",
    "            # assign a value to the appropriate entry of the preference matrix\n",
    "            p[v,s] = 6 - j; #implies that \"first choice\" gets 5 priority points.\n",
    "            \n",
    "        else #not a string\n",
    "            #do nothing\n",
    "        end\n",
    "        \n",
    "    end\n",
    "end"
   ]
  },
  {
   "cell_type": "markdown",
   "metadata": {},
   "source": [
    "Similarly, executing the following two cells displays the top and bottom portions of the prefilled shifts input table.  Check the output to make sure there isn't any funny business going on."
   ]
  },
  {
   "cell_type": "code",
   "execution_count": 10,
   "metadata": {},
   "outputs": [
    {
     "data": {
      "text/html": [
       "<table class=\"data-frame\"><thead><tr><th></th><th>Shift</th><th>Group</th></tr></thead><tbody><tr><th>1</th><td>Sunday Dinner</td><td>Club 4</td></tr><tr><th>2</th><td>Thursday Dinner</td><td>BCM</td></tr><tr><th>3</th><td>Friday Dinner</td><td>Scoops of Love</td></tr><tr><th>4</th><td>Tuesday Dinner</td><td>The Yogis</td></tr><tr><th>5</th><td>Monday Dinner</td><td>Harvard Softball</td></tr></tbody></table>"
      ],
      "text/plain": [
       "5×2 DataFrames.DataFrame\n",
       "│ Row │ Shift           │ Group            │\n",
       "├─────┼─────────────────┼──────────────────┤\n",
       "│ 1   │ Sunday Dinner   │ Club 4           │\n",
       "│ 2   │ Thursday Dinner │ BCM              │\n",
       "│ 3   │ Friday Dinner   │ Scoops of Love   │\n",
       "│ 4   │ Tuesday Dinner  │ The Yogis        │\n",
       "│ 5   │ Monday Dinner   │ Harvard Softball │"
      ]
     },
     "execution_count": 10,
     "metadata": {},
     "output_type": "execute_result"
    }
   ],
   "source": [
    "# read in the pre-filled shifts\n",
    "raw = readtable(\"Prefilled Shifts.csv\")"
   ]
  },
  {
   "cell_type": "code",
   "execution_count": 11,
   "metadata": {},
   "outputs": [
    {
     "data": {
      "text/html": [
       "<table class=\"data-frame\"><thead><tr><th></th><th>Shift</th><th>Group</th></tr></thead><tbody><tr><th>1</th><td>Sunday Dinner</td><td>Club 4</td></tr><tr><th>2</th><td>Thursday Dinner</td><td>BCM</td></tr><tr><th>3</th><td>Friday Dinner</td><td>Scoops of Love</td></tr><tr><th>4</th><td>Tuesday Dinner</td><td>The Yogis</td></tr><tr><th>5</th><td>Monday Dinner</td><td>Harvard Softball</td></tr></tbody></table>"
      ],
      "text/plain": [
       "5×2 DataFrames.DataFrame\n",
       "│ Row │ Shift           │ Group            │\n",
       "├─────┼─────────────────┼──────────────────┤\n",
       "│ 1   │ Sunday Dinner   │ Club 4           │\n",
       "│ 2   │ Thursday Dinner │ BCM              │\n",
       "│ 3   │ Friday Dinner   │ Scoops of Love   │\n",
       "│ 4   │ Tuesday Dinner  │ The Yogis        │\n",
       "│ 5   │ Monday Dinner   │ Harvard Softball │"
      ]
     },
     "execution_count": 11,
     "metadata": {},
     "output_type": "execute_result"
    }
   ],
   "source": [
    "DataFrames.tail(raw)"
   ]
  },
  {
   "cell_type": "code",
   "execution_count": 12,
   "metadata": {},
   "outputs": [],
   "source": [
    "# initialize the set of pre-filled shift (blocks)\n",
    "n_S_T = size(raw,1)\n",
    "S_T = Array{Int}(n_S_T)\n",
    "\n",
    "# initialize the count of pre-filled shifts;\n",
    "prefilled_shifts = 0;\n",
    "\n",
    "# initialize the array of group names\n",
    "groupNames = Array{String}(n_S_T)\n",
    "\n",
    "# describe the table\n",
    "headRow = 1;\n",
    "shiftCol = 1;\n",
    "groupCol = 2;\n",
    "\n",
    "# loop over the pre-filled shifts\n",
    "for j = 1:n_S_T\n",
    "    # extract the shift string\n",
    "    shiftString = raw[j,shiftCol];\n",
    "    \n",
    "    # extract the group name string\n",
    "    groupNames[j] = raw[j,groupCol];\n",
    "    \n",
    "    # convert it into an index\n",
    "    s = mapShiftStringToShiftInd(shiftString);\n",
    "    \n",
    "    # increase the count of pre-filled shifts\n",
    "    n = mapShiftStringToVolunteersRequired(shiftString);\n",
    "    prefilled_shifts += n;\n",
    "    \n",
    "    # add this index to the set of pre-filled shifts\n",
    "    S_T[j] = s\n",
    "end\n",
    "\n",
    "# Define the other sets\n",
    "V = 1:n_V;\n",
    "S = 1:n_S;\n",
    "S_B = 4*(0:6) + 1;\n",
    "S_D = 4*(0:6) + 2;\n",
    "S_E = 4*(0:6) + 3;\n",
    "S_O = 4*(0:6) + 4;"
   ]
  },
  {
   "cell_type": "markdown",
   "metadata": {},
   "source": [
    "# Define and Solve the Optimization Problem\n",
    "## Initialize the Model and Define the Decision Variables"
   ]
  },
  {
   "cell_type": "code",
   "execution_count": 13,
   "metadata": {},
   "outputs": [
    {
     "data": {
      "text/latex": [
       "$$ x_{i,j} \\in \\{0,1\\} \\quad\\forall i \\in \\{1,2,\\dots,163,164\\}, j \\in \\{1,2,\\dots,27,28\\} $$"
      ],
      "text/plain": [
       "164×28 Array{JuMP.Variable,2}:\n",
       " x[1,1]    x[1,2]    x[1,3]    x[1,4]    …  x[1,26]    x[1,27]    x[1,28]  \n",
       " x[2,1]    x[2,2]    x[2,3]    x[2,4]       x[2,26]    x[2,27]    x[2,28]  \n",
       " x[3,1]    x[3,2]    x[3,3]    x[3,4]       x[3,26]    x[3,27]    x[3,28]  \n",
       " x[4,1]    x[4,2]    x[4,3]    x[4,4]       x[4,26]    x[4,27]    x[4,28]  \n",
       " x[5,1]    x[5,2]    x[5,3]    x[5,4]       x[5,26]    x[5,27]    x[5,28]  \n",
       " x[6,1]    x[6,2]    x[6,3]    x[6,4]    …  x[6,26]    x[6,27]    x[6,28]  \n",
       " x[7,1]    x[7,2]    x[7,3]    x[7,4]       x[7,26]    x[7,27]    x[7,28]  \n",
       " x[8,1]    x[8,2]    x[8,3]    x[8,4]       x[8,26]    x[8,27]    x[8,28]  \n",
       " x[9,1]    x[9,2]    x[9,3]    x[9,4]       x[9,26]    x[9,27]    x[9,28]  \n",
       " x[10,1]   x[10,2]   x[10,3]   x[10,4]      x[10,26]   x[10,27]   x[10,28] \n",
       " x[11,1]   x[11,2]   x[11,3]   x[11,4]   …  x[11,26]   x[11,27]   x[11,28] \n",
       " x[12,1]   x[12,2]   x[12,3]   x[12,4]      x[12,26]   x[12,27]   x[12,28] \n",
       " x[13,1]   x[13,2]   x[13,3]   x[13,4]      x[13,26]   x[13,27]   x[13,28] \n",
       " ⋮                                       ⋱  ⋮                              \n",
       " x[153,1]  x[153,2]  x[153,3]  x[153,4]     x[153,26]  x[153,27]  x[153,28]\n",
       " x[154,1]  x[154,2]  x[154,3]  x[154,4]     x[154,26]  x[154,27]  x[154,28]\n",
       " x[155,1]  x[155,2]  x[155,3]  x[155,4]     x[155,26]  x[155,27]  x[155,28]\n",
       " x[156,1]  x[156,2]  x[156,3]  x[156,4]  …  x[156,26]  x[156,27]  x[156,28]\n",
       " x[157,1]  x[157,2]  x[157,3]  x[157,4]     x[157,26]  x[157,27]  x[157,28]\n",
       " x[158,1]  x[158,2]  x[158,3]  x[158,4]     x[158,26]  x[158,27]  x[158,28]\n",
       " x[159,1]  x[159,2]  x[159,3]  x[159,4]     x[159,26]  x[159,27]  x[159,28]\n",
       " x[160,1]  x[160,2]  x[160,3]  x[160,4]     x[160,26]  x[160,27]  x[160,28]\n",
       " x[161,1]  x[161,2]  x[161,3]  x[161,4]  …  x[161,26]  x[161,27]  x[161,28]\n",
       " x[162,1]  x[162,2]  x[162,3]  x[162,4]     x[162,26]  x[162,27]  x[162,28]\n",
       " x[163,1]  x[163,2]  x[163,3]  x[163,4]     x[163,26]  x[163,27]  x[163,28]\n",
       " x[164,1]  x[164,2]  x[164,3]  x[164,4]     x[164,26]  x[164,27]  x[164,28]"
      ]
     },
     "execution_count": 13,
     "metadata": {},
     "output_type": "execute_result"
    }
   ],
   "source": [
    "# Describe the Optimization Problem\n",
    "using JuMP\n",
    "using Cbc\n",
    "\n",
    "# m = Model()  #original line\n",
    "m = Model(solver=CbcSolver())\n",
    "\n",
    "## define the decision variables\n",
    "@variable(m,x[1:n_V,1:n_S],Bin)"
   ]
  },
  {
   "cell_type": "markdown",
   "metadata": {},
   "source": [
    "## Define the Constraints"
   ]
  },
  {
   "cell_type": "code",
   "execution_count": 14,
   "metadata": {},
   "outputs": [],
   "source": [
    "## define the constraints\n",
    "### constraint 1\n",
    "for v in V\n",
    "    @constraint(m,sum(x[v,:]) <= 1)\n",
    "end\n",
    "\n",
    "### constraint 2\n",
    "@constraint(m,x .<= p)\n",
    "\n",
    "### constraint 3\n",
    "for s in S_D\n",
    "    @constraint(m,sum(x[:,s]) <= 5)\n",
    "end\n",
    "\n",
    "### constraint 4\n",
    "for s in S_E\n",
    "    @constraint(m,sum(x[:,s]) <= 4)\n",
    "end\n",
    "\n",
    "### constraint 5\n",
    "for s in S_O\n",
    "    @constraint(m,sum(x[:,s]) <= 4)\n",
    "end\n",
    "\n",
    "### constraint 6\n",
    "for s in S_B\n",
    "    @constraint(m,sum(x[:,s]) <= 6)\n",
    "end\n",
    "\n",
    "### constraint 7\n",
    "for s in S_T\n",
    "    @constraint(m,x[:,s] .== 0)\n",
    "end"
   ]
  },
  {
   "cell_type": "markdown",
   "metadata": {},
   "source": [
    "## Define the Objective Function\n",
    "The objective function has several weighting coefficients, $w_1, w_2, w_3$, and $w_4$.\n",
    "Each of these coefficients corresponds to a particular objective.\n",
    "\n",
    "| Weighting Coefficient | Suggested Value | Objective |\n",
    "|:---------------------:|:---------------:|-----------|\n",
    "| $w_1$                 | 1               | Assignments are made based on preferences.      |\n",
    "| $w_2$                 | 5               |The preferred volunteers are more likely to be assigned a shift. |\n",
    "| $w_3$                 | 1               |Fill the most-difficult-to-fill shifts first. In particular, the overnight shift is typically the hardest to fill, the dinner and evening shifts are semi-hard to fill, and breakfast is easy. |\n",
    "| $w_4$                 | 1               |All shifts need to be covered.  |\n",
    "\n",
    "You can set the values of these coefficients in the code below. \n",
    "Each coefficient most be nonnegative (i.e., $w_i \\geq 0$ for $i \\in \\{1,...,4\\}$).\n",
    "**The greater the value of the coefficient, the harder the code will try to accomplish the corresponding objective.**\n",
    "That being said, if you double each coefficient, it will make no difference to the code, because it is really the *ratios* between them that matter.\n",
    "\n",
    "Manipulating these weighting coefficients will very likely effect the summary statistics and schedule produced by the code, but small changes in the weights may have no effect."
   ]
  },
  {
   "cell_type": "code",
   "execution_count": 15,
   "metadata": {},
   "outputs": [],
   "source": [
    "## define the objective function\n",
    "### define the objective weights\n",
    "w1 = 1\n",
    "w2 = 5\n",
    "w3 = 1\n",
    "w4 = 1\n",
    "\n",
    "### objective 1\n",
    "c1 = p\n",
    "\n",
    "### objective 2\n",
    "c2 = zeros(n_V,n_S)\n",
    "for v in V_star\n",
    "    c2[v,:] = 1\n",
    "end\n",
    "\n",
    "### objective 3\n",
    "c3 = zeros(n_V,n_S)\n",
    "c3[:,S_O] = 2\n",
    "c3[:,S_D] = 1\n",
    "c3[:,S_E] = 1\n",
    "c3[:,S_B] = 0\n",
    "\n",
    "### objective 4\n",
    "c4 = ones(n_V,n_S)\n",
    "\n",
    "### add all the objectives together\n",
    "c = w1*c1 + w2*c2 + w3*c3 + w4*c4\n",
    "\n",
    "### define the objective function\n",
    "\n",
    "@objective(m,Max,sum(sum(c.*x)));"
   ]
  },
  {
   "cell_type": "markdown",
   "metadata": {},
   "source": [
    "## Solve the Optimization Problem\n",
    "This cell should think for a few seconds, and then display one word: \"Optimal\"."
   ]
  },
  {
   "cell_type": "code",
   "execution_count": 16,
   "metadata": {},
   "outputs": [],
   "source": [
    "# Solve the Optimization Problem\n",
    "status = solve(m)\n",
    "println(status)\n",
    "\n",
    "# extract the numerical solution\n",
    "x = round(Int,getvalue(x));\n"
   ]
  },
  {
   "cell_type": "markdown",
   "metadata": {},
   "source": [
    "# Export the Results\n",
    "## Export Volunteer-Focused Table\n",
    "This cell constructs and outputs a table listing all of the volunteers in the first column and their shift assignment (if any) in the second."
   ]
  },
  {
   "cell_type": "code",
   "execution_count": 17,
   "metadata": {},
   "outputs": [
    {
     "ename": "LoadError",
     "evalue": "\u001b[91mMethodError: no method matching printtable(::TranscodingStreams.TranscodingStream{TranscodingStreams.Noop,IOStream}, ::DataFrames.DataFrame; header=true, separator=',', quotemark='\"', nastring=\"NA\")\u001b[0m\nClosest candidates are:\n  printtable(::IO, ::DataFrames.AbstractDataFrame; header, separator, quotemark, missingstring) at /home/jrun/.julia/v0.6/DataFrames/src/abstractdataframe/io.jl:21\u001b[91m got unsupported keyword argument \"nastring\"\u001b[39m\u001b[39m",
     "output_type": "error",
     "traceback": [
      "\u001b[91mMethodError: no method matching printtable(::TranscodingStreams.TranscodingStream{TranscodingStreams.Noop,IOStream}, ::DataFrames.DataFrame; header=true, separator=',', quotemark='\"', nastring=\"NA\")\u001b[0m\nClosest candidates are:\n  printtable(::IO, ::DataFrames.AbstractDataFrame; header, separator, quotemark, missingstring) at /home/jrun/.julia/v0.6/DataFrames/src/abstractdataframe/io.jl:21\u001b[91m got unsupported keyword argument \"nastring\"\u001b[39m\u001b[39m",
      "",
      "Stacktrace:",
      " [1] \u001b[1m(::DataFrames.#kw##printtable)\u001b[22m\u001b[22m\u001b[1m(\u001b[22m\u001b[22m::Array{Any,1}, ::DataFrames.#printtable, ::TranscodingStreams.TranscodingStream{TranscodingStreams.Noop,IOStream}, ::DataFrames.DataFrame\u001b[1m)\u001b[22m\u001b[22m at \u001b[1m./<missing>:0\u001b[22m\u001b[22m",
      " [2] \u001b[1mopen\u001b[22m\u001b[22m\u001b[1m(\u001b[22m\u001b[22m::DataFrames.##228#230{Char,Char,String,DataFrames.DataFrame}, ::Type{TranscodingStreams.TranscodingStream{TranscodingStreams.Noop,S} where S<:IO}, ::String, ::String\u001b[1m)\u001b[22m\u001b[22m at \u001b[1m/home/jrun/.julia/v0.6/TranscodingStreams/src/stream.jl:160\u001b[22m\u001b[22m",
      " [3] \u001b[1m#writetable#226\u001b[22m\u001b[22m\u001b[1m(\u001b[22m\u001b[22m::Bool, ::Char, ::Char, ::String, ::Bool, ::Function, ::String, ::DataFrames.DataFrame\u001b[1m)\u001b[22m\u001b[22m at \u001b[1m/home/jrun/.julia/v0.6/DataFrames/src/deprecated.jl:97\u001b[22m\u001b[22m",
      " [4] \u001b[1mwritetable\u001b[22m\u001b[22m\u001b[1m(\u001b[22m\u001b[22m::String, ::DataFrames.DataFrame\u001b[1m)\u001b[22m\u001b[22m at \u001b[1m/home/jrun/.julia/v0.6/DataFrames/src/deprecated.jl:69\u001b[22m\u001b[22m",
      " [5] \u001b[1minclude_string\u001b[22m\u001b[22m\u001b[1m(\u001b[22m\u001b[22m::String, ::String\u001b[1m)\u001b[22m\u001b[22m at \u001b[1m./loading.jl:522\u001b[22m\u001b[22m"
     ]
    },
    {
     "name": "stdout",
     "output_type": "stream",
     "text": [
      "Optimal\n"
     ]
    }
   ],
   "source": [
    "# Export the results\n",
    "## Export a table showing the assignment of each volunteer\n",
    "### convert the numerical solution into plain english\n",
    "shiftStrings = Array{String}(n_V)\n",
    "for v in V\n",
    "    # look to see if this volunteer was assigned\n",
    "    if sum(x[v,:]) == 1 #this volunteer was assigned\n",
    "        # extract the shift index\n",
    "        s = findfirst(x[v,:]);\n",
    "        \n",
    "        # figure out which shift this corresponds to (in English)\n",
    "        shiftStr = mapShiftIndToShiftString(s);\n",
    "        \n",
    "        # store the shift string\n",
    "        shiftStrings[v] = shiftStr\n",
    "    else\n",
    "        shiftStrings[v] = \"\"\n",
    "    end\n",
    "end\n",
    "\n",
    "# write the results to Excel\n",
    "using DataArrays, DataFrames\n",
    "volunteerAssignments = DataFrame(Volunteer = volNames, Shift_Assignment = shiftStrings)\n",
    "writetable(\"Volunteer Focused Output.csv\", volunteerAssignments)"
   ]
  },
  {
   "cell_type": "markdown",
   "metadata": {},
   "source": [
    "## Export Shift-Focused Table\n",
    "This cell constructs and outputs a table showing each shift in the first column and the people who have been assigned to the shift in subsequent columns. \n",
    "This table is preferred for checking that each shift has been covered.\n",
    "Shifts that have not been covered will be marked with a warning."
   ]
  },
  {
   "cell_type": "code",
   "execution_count": 18,
   "metadata": {
    "scrolled": true
   },
   "outputs": [
    {
     "ename": "LoadError",
     "evalue": "\u001b[91mMethodError: no method matching printtable(::TranscodingStreams.TranscodingStream{TranscodingStreams.Noop,IOStream}, ::DataFrames.DataFrame; header=true, separator=',', quotemark='\"', nastring=\"NA\")\u001b[0m\nClosest candidates are:\n  printtable(::IO, ::DataFrames.AbstractDataFrame; header, separator, quotemark, missingstring) at /home/jrun/.julia/v0.6/DataFrames/src/abstractdataframe/io.jl:21\u001b[91m got unsupported keyword argument \"nastring\"\u001b[39m\u001b[39m",
     "output_type": "error",
     "traceback": [
      "\u001b[91mMethodError: no method matching printtable(::TranscodingStreams.TranscodingStream{TranscodingStreams.Noop,IOStream}, ::DataFrames.DataFrame; header=true, separator=',', quotemark='\"', nastring=\"NA\")\u001b[0m\nClosest candidates are:\n  printtable(::IO, ::DataFrames.AbstractDataFrame; header, separator, quotemark, missingstring) at /home/jrun/.julia/v0.6/DataFrames/src/abstractdataframe/io.jl:21\u001b[91m got unsupported keyword argument \"nastring\"\u001b[39m\u001b[39m",
      "",
      "Stacktrace:",
      " [1] \u001b[1m(::DataFrames.#kw##printtable)\u001b[22m\u001b[22m\u001b[1m(\u001b[22m\u001b[22m::Array{Any,1}, ::DataFrames.#printtable, ::TranscodingStreams.TranscodingStream{TranscodingStreams.Noop,IOStream}, ::DataFrames.DataFrame\u001b[1m)\u001b[22m\u001b[22m at \u001b[1m./<missing>:0\u001b[22m\u001b[22m",
      " [2] \u001b[1mopen\u001b[22m\u001b[22m\u001b[1m(\u001b[22m\u001b[22m::DataFrames.##228#230{Char,Char,String,DataFrames.DataFrame}, ::Type{TranscodingStreams.TranscodingStream{TranscodingStreams.Noop,S} where S<:IO}, ::String, ::String\u001b[1m)\u001b[22m\u001b[22m at \u001b[1m/home/jrun/.julia/v0.6/TranscodingStreams/src/stream.jl:160\u001b[22m\u001b[22m",
      " [3] \u001b[1m#writetable#226\u001b[22m\u001b[22m\u001b[1m(\u001b[22m\u001b[22m::Bool, ::Char, ::Char, ::String, ::Bool, ::Function, ::String, ::DataFrames.DataFrame\u001b[1m)\u001b[22m\u001b[22m at \u001b[1m/home/jrun/.julia/v0.6/DataFrames/src/deprecated.jl:97\u001b[22m\u001b[22m",
      " [4] \u001b[1mwritetable\u001b[22m\u001b[22m\u001b[1m(\u001b[22m\u001b[22m::String, ::DataFrames.DataFrame\u001b[1m)\u001b[22m\u001b[22m at \u001b[1m/home/jrun/.julia/v0.6/DataFrames/src/deprecated.jl:69\u001b[22m\u001b[22m",
      " [5] \u001b[1minclude_string\u001b[22m\u001b[22m\u001b[1m(\u001b[22m\u001b[22m::String, ::String\u001b[1m)\u001b[22m\u001b[22m at \u001b[1m./loading.jl:522\u001b[22m\u001b[22m"
     ]
    }
   ],
   "source": [
    "# Export a table showing the staffing of each shift\n",
    "## initialize the cell arrays\n",
    "shiftNames = fill(\"\",n_S) #Array{String}(n_S);\n",
    "shiftStaff = fill(\"\",(n_S,6)) #Array{String}(n_S,6);\n",
    "underStaffedWarning = fill(\"\",n_S) #Array{String}(n_S);\n",
    "\n",
    "## initialize the count of under-staffed shifts\n",
    "underStaffedShifts = 0;\n",
    "\n",
    "## loop over the shifts\n",
    "for s in S\n",
    "    # store the shift name\n",
    "    shiftNames[s] = mapShiftIndToShiftString(s)\n",
    "    \n",
    "    # check whether or not this is a pre-filled shift\n",
    "    if !(s in S_T) # this is not a prefilled shift\n",
    "        # extract the names of the volunteers assigned to the shift\n",
    "        tempShiftStaffNames = volNames[find(x[:,s])]\n",
    "        for v = 1:length(tempShiftStaffNames)\n",
    "            shiftStaff[s,v] = tempShiftStaffNames[v]\n",
    "        end\n",
    "        \n",
    "        # check for understaffing\n",
    "        if length(tempShiftStaffNames) < mapShiftStringToVolunteersRequired(mapShiftIndToShiftString(s))\n",
    "            underStaffedWarning[s] = \"WARNING: Under-staffed shift.\"\n",
    "            \n",
    "            # increment the count of understaffed shifts\n",
    "            underStaffedShifts += 1\n",
    "        end\n",
    "    else # this is a prefilled shift\n",
    "        shiftStaff[s,1] = groupNames[findfirst(S_T,s)];\n",
    "    end\n",
    "end\n",
    "\n",
    "# put the table together\n",
    "df = DataFrame(Shift = shiftNames, Shift_Staff1 = shiftStaff[:,1],Shift_Staff2 = shiftStaff[:,2],Shift_Staff3 = shiftStaff[:,3],Shift_Staff4 = shiftStaff[:,4],Shift_Staff5 = shiftStaff[:,5],Shift_Staff6 = shiftStaff[:,6], Under_Staffing_Warning = underStaffedWarning)\n",
    "\n",
    "# write the results to Excel\n",
    "writetable(\"Shift Focused Output.csv\",df)"
   ]
  },
  {
   "cell_type": "markdown",
   "metadata": {},
   "source": [
    "# Display Statistics\n",
    "This code prints some statistics that give you a sense of the quality of the schedule generated."
   ]
  },
  {
   "cell_type": "code",
   "execution_count": 19,
   "metadata": {},
   "outputs": [
    {
     "name": "stdout",
     "output_type": "stream",
     "text": [
      "Fraction of volunteers assigned:\n",
      "0.6036585365853658\n",
      "Fraction of staffing requirements covered:\n",
      "0.9323308270676691\n",
      "Number of Under-Staffed Shifts:\n",
      "4\n",
      "Fraction of 1st choice assignments:\n",
      "0.6868686868686869\n",
      "Fraction of 2nd choice assignments:\n",
      "0.1919191919191919\n",
      "Fraction of 3rd choice assignments:\n",
      "0.04040404040404041\n",
      "Fraction of 4th choice assignments:\n",
      "0.04040404040404041\n",
      "Fraction of 5th choice assignments:\n",
      "0.04040404040404041\n",
      "Sum of fractions:\n",
      "1.0\n",
      "Fraction of preferred volunteers assigned\n",
      "0.9743589743589743\n"
     ]
    }
   ],
   "source": [
    "# display some statistics\n",
    "println(\"Fraction of volunteers assigned:\")\n",
    "n_assignments = sum(sum(x))\n",
    "println(n_assignments/n_V)\n",
    "\n",
    "println(\"Fraction of staffing requirements covered:\")\n",
    "println((n_assignments + prefilled_shifts)/(7*(5 + 4 + 4 + 6)))\n",
    "\n",
    "println(\"Number of Under-Staffed Shifts:\")\n",
    "println(underStaffedShifts)\n",
    "\n",
    "choiceSum = zeros(5,1)\n",
    "for v in V\n",
    "    s = findfirst(x[v,:])\n",
    "    if s > 0\n",
    "        choiceIndex = 6 - p[v,s]\n",
    "        choiceSum[choiceIndex] = choiceSum[choiceIndex] + 1;\n",
    "    end\n",
    "end\n",
    "choiceFraction = choiceSum ./ n_assignments;\n",
    "println(\"Fraction of 1st choice assignments:\")\n",
    "println(choiceFraction[1]);\n",
    "println(\"Fraction of 2nd choice assignments:\")\n",
    "println(choiceFraction[2]);\n",
    "println(\"Fraction of 3rd choice assignments:\")\n",
    "println(choiceFraction[3]);\n",
    "println(\"Fraction of 4th choice assignments:\")\n",
    "println(choiceFraction[4]);\n",
    "println(\"Fraction of 5th choice assignments:\")\n",
    "println(choiceFraction[5]);\n",
    "println(\"Sum of fractions:\")\n",
    "println(sum(choiceFraction));\n",
    "\n",
    "println(\"Fraction of preferred volunteers assigned\")\n",
    "n_assignments = sum(sum(x[V_star,:]));\n",
    "println(n_assignments/length(V_star))"
   ]
  },
  {
   "cell_type": "markdown",
   "metadata": {
    "collapsed": true
   },
   "source": [
    "# The End\n",
    "If you like what you see, go to the JuliBox tab, which you still have open and check out the output files.\n",
    "Instructions for doing this can be found in the Word document Garrett sent you: \"Using the Y2Y Shift Assignment Code in JuliaBox.docx\".\n",
    "\n",
    "If you don't like what you see, consider tweaking the weights in the \"Defining the Objective Function\" section.\n"
   ]
  }
 ],
 "metadata": {
  "anaconda-cloud": {},
  "kernelspec": {
   "display_name": "Julia 0.6.2",
   "language": "julia",
   "name": "julia-0.6"
  },
  "language_info": {
   "file_extension": ".jl",
   "mimetype": "application/julia",
   "name": "julia",
   "version": "0.6.2"
  }
 },
 "nbformat": 4,
 "nbformat_minor": 1
}
